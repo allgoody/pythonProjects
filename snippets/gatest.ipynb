{
 "cells": [
  {
   "cell_type": "code",
   "execution_count": 10,
   "metadata": {},
   "outputs": [
    {
     "name": "stdout",
     "output_type": "stream",
     "text": [
      "    Source Medium  Users New Users Sessions Bounce Rate  Pages / Session  \\\n",
      "0  4520144    JPN  5,130     4,091    5,938      97.00%             1.20   \n",
      "1  4244714    JPN  3,477     2,692    3,624      98.51%             1.07   \n",
      "2  3664857    JPN  3,253     2,508    3,720      96.64%             1.15   \n",
      "3  4054278    DEU  2,664     2,263    2,983      96.25%             1.23   \n",
      "4  4277590    DEU  2,649     1,560    3,741      67.07%             1.50   \n",
      "\n",
      "  Avg. Session Duration Goal Conversion Rate  Goal Completions Goal Value  \n",
      "0              00:00:13                0.00%               0.0      $0.00  \n",
      "1              00:00:07                0.00%               0.0      $0.00  \n",
      "2              00:00:20                0.00%               0.0      $0.00  \n",
      "3              00:00:22                0.00%               0.0      $0.00  \n",
      "4              00:01:21                0.00%               0.0      $0.00  \n"
     ]
    }
   ],
   "source": [
    "import pandas as pd\n",
    "\n",
    "csvData = pd.read_csv('../test_data/ga_test_data.csv')\n",
    "print(csvData.head(5))"
   ]
  }
 ],
 "metadata": {
  "interpreter": {
   "hash": "146b06f4d7fdc09b9379e0c1cc1221f4661490e7d851a5c286706ecdd263b3ac"
  },
  "kernelspec": {
   "display_name": "Python 3.10.1 64-bit",
   "language": "python",
   "name": "python3"
  },
  "language_info": {
   "codemirror_mode": {
    "name": "ipython",
    "version": 3
   },
   "file_extension": ".py",
   "mimetype": "text/x-python",
   "name": "python",
   "nbconvert_exporter": "python",
   "pygments_lexer": "ipython3",
   "version": "3.10.1"
  },
  "orig_nbformat": 4
 },
 "nbformat": 4,
 "nbformat_minor": 2
}
